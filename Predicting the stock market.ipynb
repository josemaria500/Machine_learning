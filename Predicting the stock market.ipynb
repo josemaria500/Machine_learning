{
 "cells": [
  {
   "cell_type": "markdown",
   "metadata": {},
   "source": [
    "### Predicting The Stock Market"
   ]
  },
  {
   "cell_type": "markdown",
   "metadata": {},
   "source": [
    "**Note**: You shouldn't make trades with any model developed in this project."
   ]
  },
  {
   "cell_type": "markdown",
   "metadata": {},
   "source": [
    "In this project, we'll be working with data from the [S&P500 Index](https://en.wikipedia.org/wiki/S%26P_500_Index). The S&P500 is a stock market index.\n",
    "\n",
    "The data is in [Kaggle](https://www.kaggle.com/samaxtech/sp500-index-data), the columns of the dataset are:\n",
    "\n",
    "* Date -- The date of the record.\n",
    "* Open -- The opening price of the day (when trading starts).\n",
    "* High -- The highest trade price during the day.\n",
    "* Low -- The lowest trade price during the day.\n",
    "* Close -- The closing price for the day (when trading is finished).\n",
    "* Volume -- The number of shares traded.\n",
    "* Adj Close -- The daily closing price, adjusted retroactively to include any corporate actions.\n"
   ]
  },
  {
   "cell_type": "code",
   "execution_count": 1,
   "metadata": {},
   "outputs": [],
   "source": [
    "import pandas as pd\n",
    "import numpy as np\n",
    "from datetime import datetime\n",
    "\n",
    "from sklearn.linear_model import LinearRegression\n",
    "from sklearn.metrics import mean_absolute_error\n",
    "\n",
    "import matplotlib.pyplot as plt "
   ]
  },
  {
   "cell_type": "code",
   "execution_count": 2,
   "metadata": {},
   "outputs": [
    {
     "data": {
      "text/html": [
       "<div>\n",
       "<style scoped>\n",
       "    .dataframe tbody tr th:only-of-type {\n",
       "        vertical-align: middle;\n",
       "    }\n",
       "\n",
       "    .dataframe tbody tr th {\n",
       "        vertical-align: top;\n",
       "    }\n",
       "\n",
       "    .dataframe thead th {\n",
       "        text-align: right;\n",
       "    }\n",
       "</style>\n",
       "<table border=\"1\" class=\"dataframe\">\n",
       "  <thead>\n",
       "    <tr style=\"text-align: right;\">\n",
       "      <th></th>\n",
       "      <th>Date</th>\n",
       "      <th>Open</th>\n",
       "      <th>High</th>\n",
       "      <th>Low</th>\n",
       "      <th>Close</th>\n",
       "      <th>Volume</th>\n",
       "      <th>Adj Close</th>\n",
       "    </tr>\n",
       "  </thead>\n",
       "  <tbody>\n",
       "    <tr>\n",
       "      <th>0</th>\n",
       "      <td>2015-12-07</td>\n",
       "      <td>2090.419922</td>\n",
       "      <td>2090.419922</td>\n",
       "      <td>2066.780029</td>\n",
       "      <td>2077.070068</td>\n",
       "      <td>4.043820e+09</td>\n",
       "      <td>2077.070068</td>\n",
       "    </tr>\n",
       "    <tr>\n",
       "      <th>1</th>\n",
       "      <td>2015-12-04</td>\n",
       "      <td>2051.239990</td>\n",
       "      <td>2093.840088</td>\n",
       "      <td>2051.239990</td>\n",
       "      <td>2091.689941</td>\n",
       "      <td>4.214910e+09</td>\n",
       "      <td>2091.689941</td>\n",
       "    </tr>\n",
       "    <tr>\n",
       "      <th>2</th>\n",
       "      <td>2015-12-03</td>\n",
       "      <td>2080.709961</td>\n",
       "      <td>2085.000000</td>\n",
       "      <td>2042.349976</td>\n",
       "      <td>2049.620117</td>\n",
       "      <td>4.306490e+09</td>\n",
       "      <td>2049.620117</td>\n",
       "    </tr>\n",
       "    <tr>\n",
       "      <th>3</th>\n",
       "      <td>2015-12-02</td>\n",
       "      <td>2101.709961</td>\n",
       "      <td>2104.270020</td>\n",
       "      <td>2077.110107</td>\n",
       "      <td>2079.510010</td>\n",
       "      <td>3.950640e+09</td>\n",
       "      <td>2079.510010</td>\n",
       "    </tr>\n",
       "    <tr>\n",
       "      <th>4</th>\n",
       "      <td>2015-12-01</td>\n",
       "      <td>2082.929932</td>\n",
       "      <td>2103.370117</td>\n",
       "      <td>2082.929932</td>\n",
       "      <td>2102.629883</td>\n",
       "      <td>3.712120e+09</td>\n",
       "      <td>2102.629883</td>\n",
       "    </tr>\n",
       "  </tbody>\n",
       "</table>\n",
       "</div>"
      ],
      "text/plain": [
       "         Date         Open         High          Low        Close  \\\n",
       "0  2015-12-07  2090.419922  2090.419922  2066.780029  2077.070068   \n",
       "1  2015-12-04  2051.239990  2093.840088  2051.239990  2091.689941   \n",
       "2  2015-12-03  2080.709961  2085.000000  2042.349976  2049.620117   \n",
       "3  2015-12-02  2101.709961  2104.270020  2077.110107  2079.510010   \n",
       "4  2015-12-01  2082.929932  2103.370117  2082.929932  2102.629883   \n",
       "\n",
       "         Volume    Adj Close  \n",
       "0  4.043820e+09  2077.070068  \n",
       "1  4.214910e+09  2091.689941  \n",
       "2  4.306490e+09  2049.620117  \n",
       "3  3.950640e+09  2079.510010  \n",
       "4  3.712120e+09  2102.629883  "
      ]
     },
     "execution_count": 2,
     "metadata": {},
     "output_type": "execute_result"
    }
   ],
   "source": [
    "data = pd.read_csv('sphist.csv')\n",
    "data.head()"
   ]
  },
  {
   "cell_type": "code",
   "execution_count": 3,
   "metadata": {},
   "outputs": [
    {
     "name": "stdout",
     "output_type": "stream",
     "text": [
      "<class 'pandas.core.frame.DataFrame'>\n",
      "RangeIndex: 16590 entries, 0 to 16589\n",
      "Data columns (total 7 columns):\n",
      " #   Column     Non-Null Count  Dtype  \n",
      "---  ------     --------------  -----  \n",
      " 0   Date       16590 non-null  object \n",
      " 1   Open       16590 non-null  float64\n",
      " 2   High       16590 non-null  float64\n",
      " 3   Low        16590 non-null  float64\n",
      " 4   Close      16590 non-null  float64\n",
      " 5   Volume     16590 non-null  float64\n",
      " 6   Adj Close  16590 non-null  float64\n",
      "dtypes: float64(6), object(1)\n",
      "memory usage: 907.4+ KB\n"
     ]
    }
   ],
   "source": [
    "data.info()"
   ]
  },
  {
   "cell_type": "code",
   "execution_count": 4,
   "metadata": {},
   "outputs": [],
   "source": [
    "# Change the data type of Date\n",
    "data['Date']  = pd.to_datetime(data['Date'])"
   ]
  },
  {
   "cell_type": "code",
   "execution_count": 5,
   "metadata": {},
   "outputs": [],
   "source": [
    "# Sorting the dataframe on the Date column.\n",
    "data.sort_values('Date', inplace = True, ascending = True)"
   ]
  },
  {
   "cell_type": "code",
   "execution_count": 6,
   "metadata": {},
   "outputs": [
    {
     "data": {
      "image/png": "[encoded data removed]",
      "text/plain": [
       "<Figure size 432x288 with 1 Axes>"
      ]
     },
     "metadata": {
      "needs_background": "light"
     },
     "output_type": "display_data"
    }
   ],
   "source": [
    "# Evolution close price \n",
    "plt.plot(data['Date'], data['Close'])\n",
    "plt.ylabel('Close price')\n",
    "plt.xlabel('Year');\n"
   ]
  },
  {
   "cell_type": "code",
   "execution_count": 7,
   "metadata": {},
   "outputs": [],
   "source": [
    "# Evolucion of close price in 2010\n",
    "year_2010 = data[(data[\"Date\"] > datetime(year=2009, month=12, day=31)) & \n",
    "                 (data[\"Date\"] < datetime(year=2011, month=1, day=1))]"
   ]
  },
  {
   "cell_type": "code",
   "execution_count": 8,
   "metadata": {},
   "outputs": [
    {
     "data": {
      "image/png": "[encoded data removed]",
      "text/plain": [
       "<Figure size 432x288 with 1 Axes>"
      ]
     },
     "metadata": {
      "needs_background": "light"
     },
     "output_type": "display_data"
    }
   ],
   "source": [
    "plt.plot(year_2010['Date'],year_2010['Close'])\n",
    "plt.ylabel('Close price')\n",
    "plt.xlabel('Year');"
   ]
  },
  {
   "cell_type": "code",
   "execution_count": 9,
   "metadata": {},
   "outputs": [
    {
     "name": "stderr",
     "output_type": "stream",
     "text": [
      "c:\\python\\lib\\site-packages\\ipykernel_launcher.py:2: SettingWithCopyWarning: \n",
      "A value is trying to be set on a copy of a slice from a DataFrame.\n",
      "Try using .loc[row_indexer,col_indexer] = value instead\n",
      "\n",
      "See the caveats in the documentation: https://pandas.pydata.org/pandas-docs/stable/user_guide/indexing.html#returning-a-view-versus-a-copy\n",
      "  \n",
      "c:\\python\\lib\\site-packages\\ipykernel_launcher.py:3: SettingWithCopyWarning: \n",
      "A value is trying to be set on a copy of a slice from a DataFrame.\n",
      "Try using .loc[row_indexer,col_indexer] = value instead\n",
      "\n",
      "See the caveats in the documentation: https://pandas.pydata.org/pandas-docs/stable/user_guide/indexing.html#returning-a-view-versus-a-copy\n",
      "  This is separate from the ipykernel package so we can avoid doing imports until\n"
     ]
    }
   ],
   "source": [
    "# Evolution of themoving average close price 5 days  \n",
    "year_2010['avg_5_days_close'] = year_2010.rolling(5).mean()['Close']\n",
    "year_2010['avg_5_days_close'] = year_2010['avg_5_days_close'].shift(1)"
   ]
  },
  {
   "cell_type": "code",
   "execution_count": 10,
   "metadata": {},
   "outputs": [
    {
     "data": {
      "image/png": "[encoded data removed]",
      "text/plain": [
       "<Figure size 432x288 with 1 Axes>"
      ]
     },
     "metadata": {
      "needs_background": "light"
     },
     "output_type": "display_data"
    }
   ],
   "source": [
    "plt.plot(year_2010['Date'], year_2010['Close'], label = 'Close price')\n",
    "plt.plot(year_2010['Date'], year_2010['avg_5_days_close'], label = 'Moving Avg 5 days')\n",
    "plt.ylabel('Close price')\n",
    "plt.legend(loc=\"upper left\")\n",
    "plt.xlabel('Year');"
   ]
  },
  {
   "cell_type": "markdown",
   "metadata": {},
   "source": [
    "####  Smoothing close price"
   ]
  },
  {
   "cell_type": "markdown",
   "metadata": {},
   "source": [
    "We are going to create a new column that contains the average price of the last 5 trades for each row. This will incorporate information from multiple prior rows into one, and will make predictions much more accurate."
   ]
  },
  {
   "cell_type": "code",
   "execution_count": 11,
   "metadata": {},
   "outputs": [],
   "source": [
    "data['avg_5_days_close'] = data.rolling(5).mean()['Close']"
   ]
  },
  {
   "cell_type": "code",
   "execution_count": 12,
   "metadata": {},
   "outputs": [
    {
     "data": {
      "text/html": [
       "<div>\n",
       "<style scoped>\n",
       "    .dataframe tbody tr th:only-of-type {\n",
       "        vertical-align: middle;\n",
       "    }\n",
       "\n",
       "    .dataframe tbody tr th {\n",
       "        vertical-align: top;\n",
       "    }\n",
       "\n",
       "    .dataframe thead th {\n",
       "        text-align: right;\n",
       "    }\n",
       "</style>\n",
       "<table border=\"1\" class=\"dataframe\">\n",
       "  <thead>\n",
       "    <tr style=\"text-align: right;\">\n",
       "      <th></th>\n",
       "      <th>Date</th>\n",
       "      <th>Open</th>\n",
       "      <th>High</th>\n",
       "      <th>Low</th>\n",
       "      <th>Close</th>\n",
       "      <th>Volume</th>\n",
       "      <th>Adj Close</th>\n",
       "      <th>avg_5_days_close</th>\n",
       "    </tr>\n",
       "  </thead>\n",
       "  <tbody>\n",
       "    <tr>\n",
       "      <th>16589</th>\n",
       "      <td>1950-01-03</td>\n",
       "      <td>16.66</td>\n",
       "      <td>16.66</td>\n",
       "      <td>16.66</td>\n",
       "      <td>16.66</td>\n",
       "      <td>1260000.0</td>\n",
       "      <td>16.66</td>\n",
       "      <td>NaN</td>\n",
       "    </tr>\n",
       "    <tr>\n",
       "      <th>16588</th>\n",
       "      <td>1950-01-04</td>\n",
       "      <td>16.85</td>\n",
       "      <td>16.85</td>\n",
       "      <td>16.85</td>\n",
       "      <td>16.85</td>\n",
       "      <td>1890000.0</td>\n",
       "      <td>16.85</td>\n",
       "      <td>NaN</td>\n",
       "    </tr>\n",
       "    <tr>\n",
       "      <th>16587</th>\n",
       "      <td>1950-01-05</td>\n",
       "      <td>16.93</td>\n",
       "      <td>16.93</td>\n",
       "      <td>16.93</td>\n",
       "      <td>16.93</td>\n",
       "      <td>2550000.0</td>\n",
       "      <td>16.93</td>\n",
       "      <td>NaN</td>\n",
       "    </tr>\n",
       "    <tr>\n",
       "      <th>16586</th>\n",
       "      <td>1950-01-06</td>\n",
       "      <td>16.98</td>\n",
       "      <td>16.98</td>\n",
       "      <td>16.98</td>\n",
       "      <td>16.98</td>\n",
       "      <td>2010000.0</td>\n",
       "      <td>16.98</td>\n",
       "      <td>NaN</td>\n",
       "    </tr>\n",
       "    <tr>\n",
       "      <th>16585</th>\n",
       "      <td>1950-01-09</td>\n",
       "      <td>17.08</td>\n",
       "      <td>17.08</td>\n",
       "      <td>17.08</td>\n",
       "      <td>17.08</td>\n",
       "      <td>2520000.0</td>\n",
       "      <td>17.08</td>\n",
       "      <td>16.9</td>\n",
       "    </tr>\n",
       "  </tbody>\n",
       "</table>\n",
       "</div>"
      ],
      "text/plain": [
       "            Date   Open   High    Low  Close     Volume  Adj Close  \\\n",
       "16589 1950-01-03  16.66  16.66  16.66  16.66  1260000.0      16.66   \n",
       "16588 1950-01-04  16.85  16.85  16.85  16.85  1890000.0      16.85   \n",
       "16587 1950-01-05  16.93  16.93  16.93  16.93  2550000.0      16.93   \n",
       "16586 1950-01-06  16.98  16.98  16.98  16.98  2010000.0      16.98   \n",
       "16585 1950-01-09  17.08  17.08  17.08  17.08  2520000.0      17.08   \n",
       "\n",
       "       avg_5_days_close  \n",
       "16589               NaN  \n",
       "16588               NaN  \n",
       "16587               NaN  \n",
       "16586               NaN  \n",
       "16585              16.9  "
      ]
     },
     "execution_count": 12,
     "metadata": {},
     "output_type": "execute_result"
    }
   ],
   "source": [
    "data.head()"
   ]
  },
  {
   "cell_type": "markdown",
   "metadata": {},
   "source": [
    "We must be careful not to use the current row in the values of our average. \n",
    "We need to reindex the resulting series to shift all the values \"forward\" one day."
   ]
  },
  {
   "cell_type": "code",
   "execution_count": 13,
   "metadata": {},
   "outputs": [
    {
     "data": {
      "text/html": [
       "<div>\n",
       "<style scoped>\n",
       "    .dataframe tbody tr th:only-of-type {\n",
       "        vertical-align: middle;\n",
       "    }\n",
       "\n",
       "    .dataframe tbody tr th {\n",
       "        vertical-align: top;\n",
       "    }\n",
       "\n",
       "    .dataframe thead th {\n",
       "        text-align: right;\n",
       "    }\n",
       "</style>\n",
       "<table border=\"1\" class=\"dataframe\">\n",
       "  <thead>\n",
       "    <tr style=\"text-align: right;\">\n",
       "      <th></th>\n",
       "      <th>Date</th>\n",
       "      <th>Open</th>\n",
       "      <th>High</th>\n",
       "      <th>Low</th>\n",
       "      <th>Close</th>\n",
       "      <th>Volume</th>\n",
       "      <th>Adj Close</th>\n",
       "      <th>avg_5_days_close</th>\n",
       "    </tr>\n",
       "  </thead>\n",
       "  <tbody>\n",
       "    <tr>\n",
       "      <th>16589</th>\n",
       "      <td>1950-01-03</td>\n",
       "      <td>16.660000</td>\n",
       "      <td>16.660000</td>\n",
       "      <td>16.660000</td>\n",
       "      <td>16.660000</td>\n",
       "      <td>1260000.0</td>\n",
       "      <td>16.660000</td>\n",
       "      <td>NaN</td>\n",
       "    </tr>\n",
       "    <tr>\n",
       "      <th>16588</th>\n",
       "      <td>1950-01-04</td>\n",
       "      <td>16.850000</td>\n",
       "      <td>16.850000</td>\n",
       "      <td>16.850000</td>\n",
       "      <td>16.850000</td>\n",
       "      <td>1890000.0</td>\n",
       "      <td>16.850000</td>\n",
       "      <td>NaN</td>\n",
       "    </tr>\n",
       "    <tr>\n",
       "      <th>16587</th>\n",
       "      <td>1950-01-05</td>\n",
       "      <td>16.930000</td>\n",
       "      <td>16.930000</td>\n",
       "      <td>16.930000</td>\n",
       "      <td>16.930000</td>\n",
       "      <td>2550000.0</td>\n",
       "      <td>16.930000</td>\n",
       "      <td>NaN</td>\n",
       "    </tr>\n",
       "    <tr>\n",
       "      <th>16586</th>\n",
       "      <td>1950-01-06</td>\n",
       "      <td>16.980000</td>\n",
       "      <td>16.980000</td>\n",
       "      <td>16.980000</td>\n",
       "      <td>16.980000</td>\n",
       "      <td>2010000.0</td>\n",
       "      <td>16.980000</td>\n",
       "      <td>NaN</td>\n",
       "    </tr>\n",
       "    <tr>\n",
       "      <th>16585</th>\n",
       "      <td>1950-01-09</td>\n",
       "      <td>17.080000</td>\n",
       "      <td>17.080000</td>\n",
       "      <td>17.080000</td>\n",
       "      <td>17.080000</td>\n",
       "      <td>2520000.0</td>\n",
       "      <td>17.080000</td>\n",
       "      <td>NaN</td>\n",
       "    </tr>\n",
       "    <tr>\n",
       "      <th>16584</th>\n",
       "      <td>1950-01-10</td>\n",
       "      <td>17.030001</td>\n",
       "      <td>17.030001</td>\n",
       "      <td>17.030001</td>\n",
       "      <td>17.030001</td>\n",
       "      <td>2160000.0</td>\n",
       "      <td>17.030001</td>\n",
       "      <td>16.900</td>\n",
       "    </tr>\n",
       "    <tr>\n",
       "      <th>16583</th>\n",
       "      <td>1950-01-11</td>\n",
       "      <td>17.090000</td>\n",
       "      <td>17.090000</td>\n",
       "      <td>17.090000</td>\n",
       "      <td>17.090000</td>\n",
       "      <td>2630000.0</td>\n",
       "      <td>17.090000</td>\n",
       "      <td>16.974</td>\n",
       "    </tr>\n",
       "    <tr>\n",
       "      <th>16582</th>\n",
       "      <td>1950-01-12</td>\n",
       "      <td>16.760000</td>\n",
       "      <td>16.760000</td>\n",
       "      <td>16.760000</td>\n",
       "      <td>16.760000</td>\n",
       "      <td>2970000.0</td>\n",
       "      <td>16.760000</td>\n",
       "      <td>17.022</td>\n",
       "    </tr>\n",
       "    <tr>\n",
       "      <th>16581</th>\n",
       "      <td>1950-01-13</td>\n",
       "      <td>16.670000</td>\n",
       "      <td>16.670000</td>\n",
       "      <td>16.670000</td>\n",
       "      <td>16.670000</td>\n",
       "      <td>3330000.0</td>\n",
       "      <td>16.670000</td>\n",
       "      <td>16.988</td>\n",
       "    </tr>\n",
       "    <tr>\n",
       "      <th>16580</th>\n",
       "      <td>1950-01-16</td>\n",
       "      <td>16.719999</td>\n",
       "      <td>16.719999</td>\n",
       "      <td>16.719999</td>\n",
       "      <td>16.719999</td>\n",
       "      <td>1460000.0</td>\n",
       "      <td>16.719999</td>\n",
       "      <td>16.926</td>\n",
       "    </tr>\n",
       "  </tbody>\n",
       "</table>\n",
       "</div>"
      ],
      "text/plain": [
       "            Date       Open       High        Low      Close     Volume  \\\n",
       "16589 1950-01-03  16.660000  16.660000  16.660000  16.660000  1260000.0   \n",
       "16588 1950-01-04  16.850000  16.850000  16.850000  16.850000  1890000.0   \n",
       "16587 1950-01-05  16.930000  16.930000  16.930000  16.930000  2550000.0   \n",
       "16586 1950-01-06  16.980000  16.980000  16.980000  16.980000  2010000.0   \n",
       "16585 1950-01-09  17.080000  17.080000  17.080000  17.080000  2520000.0   \n",
       "16584 1950-01-10  17.030001  17.030001  17.030001  17.030001  2160000.0   \n",
       "16583 1950-01-11  17.090000  17.090000  17.090000  17.090000  2630000.0   \n",
       "16582 1950-01-12  16.760000  16.760000  16.760000  16.760000  2970000.0   \n",
       "16581 1950-01-13  16.670000  16.670000  16.670000  16.670000  3330000.0   \n",
       "16580 1950-01-16  16.719999  16.719999  16.719999  16.719999  1460000.0   \n",
       "\n",
       "       Adj Close  avg_5_days_close  \n",
       "16589  16.660000               NaN  \n",
       "16588  16.850000               NaN  \n",
       "16587  16.930000               NaN  \n",
       "16586  16.980000               NaN  \n",
       "16585  17.080000               NaN  \n",
       "16584  17.030001            16.900  \n",
       "16583  17.090000            16.974  \n",
       "16582  16.760000            17.022  \n",
       "16581  16.670000            16.988  \n",
       "16580  16.719999            16.926  "
      ]
     },
     "execution_count": 13,
     "metadata": {},
     "output_type": "execute_result"
    }
   ],
   "source": [
    "data['avg_5_days_close'] = data['avg_5_days_close'].shift(1)\n",
    "data.head(10)"
   ]
  },
  {
   "cell_type": "code",
   "execution_count": 14,
   "metadata": {},
   "outputs": [],
   "source": [
    "# new column standard deviation last 30 days\n",
    "data['std_30_days_close'] = data.rolling(30).std()['Close']"
   ]
  },
  {
   "cell_type": "code",
   "execution_count": 15,
   "metadata": {},
   "outputs": [],
   "source": [
    "# Shift results \n",
    "data['std_30_days_close'] = data['std_30_days_close'].shift(1)"
   ]
  },
  {
   "cell_type": "code",
   "execution_count": 16,
   "metadata": {},
   "outputs": [],
   "source": [
    "# Ratio between the standard deviation for the past 5 days, and the standard deviation for the past 365 days.\n",
    "data['ratio_std_5_365_close'] = data.rolling(5).std()['Close'] / data.rolling(365).std()['Close']"
   ]
  },
  {
   "cell_type": "code",
   "execution_count": 17,
   "metadata": {},
   "outputs": [],
   "source": [
    "# Shift results \n",
    "data['ratio_std_5_365_close'] = data['ratio_std_5_365_close'].shift(1)"
   ]
  },
  {
   "cell_type": "code",
   "execution_count": 18,
   "metadata": {},
   "outputs": [],
   "source": [
    "# new column standard deviation last 5 days volume\n",
    "data['std_5_days_volume'] = data.rolling(5).std()['Close']"
   ]
  },
  {
   "cell_type": "code",
   "execution_count": 19,
   "metadata": {},
   "outputs": [],
   "source": [
    "# Shift results \n",
    "data['std_5_days_volume'] = data['std_5_days_volume'].shift(1)"
   ]
  },
  {
   "cell_type": "code",
   "execution_count": 20,
   "metadata": {},
   "outputs": [],
   "source": [
    "# new column average last 30 days volume\n",
    "data['avg_30_days_volume'] = data.rolling(30).std()['Close']"
   ]
  },
  {
   "cell_type": "code",
   "execution_count": 21,
   "metadata": {},
   "outputs": [],
   "source": [
    "# Shift results \n",
    "data['avg_30_days_volume'] = data['avg_30_days_volume'].shift(1)"
   ]
  },
  {
   "cell_type": "markdown",
   "metadata": {},
   "source": [
    "#### Data cleaning\n",
    "\n",
    "There are some rows where there isn't enough historical data to generate them. we have an indicator use 365 days of historical data, and the dataset starts on 1950-01-03. Thus, any rows that fall before 1951-01-03 don't have enough historical data to compute all the indicators. We'll need to remove these rows."
   ]
  },
  {
   "cell_type": "code",
   "execution_count": 22,
   "metadata": {},
   "outputs": [
    {
     "data": {
      "text/html": [
       "<div>\n",
       "<style scoped>\n",
       "    .dataframe tbody tr th:only-of-type {\n",
       "        vertical-align: middle;\n",
       "    }\n",
       "\n",
       "    .dataframe tbody tr th {\n",
       "        vertical-align: top;\n",
       "    }\n",
       "\n",
       "    .dataframe thead th {\n",
       "        text-align: right;\n",
       "    }\n",
       "</style>\n",
       "<table border=\"1\" class=\"dataframe\">\n",
       "  <thead>\n",
       "    <tr style=\"text-align: right;\">\n",
       "      <th></th>\n",
       "      <th>Date</th>\n",
       "      <th>Open</th>\n",
       "      <th>High</th>\n",
       "      <th>Low</th>\n",
       "      <th>Close</th>\n",
       "      <th>Volume</th>\n",
       "      <th>Adj Close</th>\n",
       "      <th>avg_5_days_close</th>\n",
       "      <th>std_30_days_close</th>\n",
       "      <th>ratio_std_5_365_close</th>\n",
       "      <th>std_5_days_volume</th>\n",
       "      <th>avg_30_days_volume</th>\n",
       "    </tr>\n",
       "  </thead>\n",
       "  <tbody>\n",
       "    <tr>\n",
       "      <th>16339</th>\n",
       "      <td>1951-01-03</td>\n",
       "      <td>20.690001</td>\n",
       "      <td>20.690001</td>\n",
       "      <td>20.690001</td>\n",
       "      <td>20.690001</td>\n",
       "      <td>3370000.0</td>\n",
       "      <td>20.690001</td>\n",
       "      <td>20.360000</td>\n",
       "      <td>0.403850</td>\n",
       "      <td>NaN</td>\n",
       "      <td>0.304385</td>\n",
       "      <td>0.403850</td>\n",
       "    </tr>\n",
       "    <tr>\n",
       "      <th>16338</th>\n",
       "      <td>1951-01-04</td>\n",
       "      <td>20.870001</td>\n",
       "      <td>20.870001</td>\n",
       "      <td>20.870001</td>\n",
       "      <td>20.870001</td>\n",
       "      <td>3390000.0</td>\n",
       "      <td>20.870001</td>\n",
       "      <td>20.514000</td>\n",
       "      <td>0.434320</td>\n",
       "      <td>NaN</td>\n",
       "      <td>0.204524</td>\n",
       "      <td>0.434320</td>\n",
       "    </tr>\n",
       "    <tr>\n",
       "      <th>16337</th>\n",
       "      <td>1951-01-05</td>\n",
       "      <td>20.870001</td>\n",
       "      <td>20.870001</td>\n",
       "      <td>20.870001</td>\n",
       "      <td>20.870001</td>\n",
       "      <td>3390000.0</td>\n",
       "      <td>20.870001</td>\n",
       "      <td>20.628000</td>\n",
       "      <td>0.473021</td>\n",
       "      <td>NaN</td>\n",
       "      <td>0.214057</td>\n",
       "      <td>0.473021</td>\n",
       "    </tr>\n",
       "    <tr>\n",
       "      <th>16336</th>\n",
       "      <td>1951-01-08</td>\n",
       "      <td>21.000000</td>\n",
       "      <td>21.000000</td>\n",
       "      <td>21.000000</td>\n",
       "      <td>21.000000</td>\n",
       "      <td>2780000.0</td>\n",
       "      <td>21.000000</td>\n",
       "      <td>20.726001</td>\n",
       "      <td>0.506783</td>\n",
       "      <td>NaN</td>\n",
       "      <td>0.181879</td>\n",
       "      <td>0.506783</td>\n",
       "    </tr>\n",
       "    <tr>\n",
       "      <th>16335</th>\n",
       "      <td>1951-01-09</td>\n",
       "      <td>21.120001</td>\n",
       "      <td>21.120001</td>\n",
       "      <td>21.120001</td>\n",
       "      <td>21.120001</td>\n",
       "      <td>3800000.0</td>\n",
       "      <td>21.120001</td>\n",
       "      <td>20.840001</td>\n",
       "      <td>0.543144</td>\n",
       "      <td>NaN</td>\n",
       "      <td>0.117047</td>\n",
       "      <td>0.543144</td>\n",
       "    </tr>\n",
       "    <tr>\n",
       "      <th>16334</th>\n",
       "      <td>1951-01-10</td>\n",
       "      <td>20.850000</td>\n",
       "      <td>20.850000</td>\n",
       "      <td>20.850000</td>\n",
       "      <td>20.850000</td>\n",
       "      <td>3270000.0</td>\n",
       "      <td>20.850000</td>\n",
       "      <td>20.910001</td>\n",
       "      <td>0.581016</td>\n",
       "      <td>NaN</td>\n",
       "      <td>0.161090</td>\n",
       "      <td>0.581016</td>\n",
       "    </tr>\n",
       "    <tr>\n",
       "      <th>16333</th>\n",
       "      <td>1951-01-11</td>\n",
       "      <td>21.190001</td>\n",
       "      <td>21.190001</td>\n",
       "      <td>21.190001</td>\n",
       "      <td>21.190001</td>\n",
       "      <td>3490000.0</td>\n",
       "      <td>21.190001</td>\n",
       "      <td>20.942001</td>\n",
       "      <td>0.602189</td>\n",
       "      <td>NaN</td>\n",
       "      <td>0.116060</td>\n",
       "      <td>0.602189</td>\n",
       "    </tr>\n",
       "    <tr>\n",
       "      <th>16332</th>\n",
       "      <td>1951-01-12</td>\n",
       "      <td>21.110001</td>\n",
       "      <td>21.110001</td>\n",
       "      <td>21.110001</td>\n",
       "      <td>21.110001</td>\n",
       "      <td>2950000.0</td>\n",
       "      <td>21.110001</td>\n",
       "      <td>21.006001</td>\n",
       "      <td>0.635242</td>\n",
       "      <td>NaN</td>\n",
       "      <td>0.149767</td>\n",
       "      <td>0.635242</td>\n",
       "    </tr>\n",
       "    <tr>\n",
       "      <th>16331</th>\n",
       "      <td>1951-01-15</td>\n",
       "      <td>21.299999</td>\n",
       "      <td>21.299999</td>\n",
       "      <td>21.299999</td>\n",
       "      <td>21.299999</td>\n",
       "      <td>2830000.0</td>\n",
       "      <td>21.299999</td>\n",
       "      <td>21.054001</td>\n",
       "      <td>0.651346</td>\n",
       "      <td>NaN</td>\n",
       "      <td>0.132778</td>\n",
       "      <td>0.651346</td>\n",
       "    </tr>\n",
       "    <tr>\n",
       "      <th>16330</th>\n",
       "      <td>1951-01-16</td>\n",
       "      <td>21.459999</td>\n",
       "      <td>21.459999</td>\n",
       "      <td>21.459999</td>\n",
       "      <td>21.459999</td>\n",
       "      <td>3740000.0</td>\n",
       "      <td>21.459999</td>\n",
       "      <td>21.114000</td>\n",
       "      <td>0.677254</td>\n",
       "      <td>NaN</td>\n",
       "      <td>0.165922</td>\n",
       "      <td>0.677254</td>\n",
       "    </tr>\n",
       "  </tbody>\n",
       "</table>\n",
       "</div>"
      ],
      "text/plain": [
       "            Date       Open       High        Low      Close     Volume  \\\n",
       "16339 1951-01-03  20.690001  20.690001  20.690001  20.690001  3370000.0   \n",
       "16338 1951-01-04  20.870001  20.870001  20.870001  20.870001  3390000.0   \n",
       "16337 1951-01-05  20.870001  20.870001  20.870001  20.870001  3390000.0   \n",
       "16336 1951-01-08  21.000000  21.000000  21.000000  21.000000  2780000.0   \n",
       "16335 1951-01-09  21.120001  21.120001  21.120001  21.120001  3800000.0   \n",
       "16334 1951-01-10  20.850000  20.850000  20.850000  20.850000  3270000.0   \n",
       "16333 1951-01-11  21.190001  21.190001  21.190001  21.190001  3490000.0   \n",
       "16332 1951-01-12  21.110001  21.110001  21.110001  21.110001  2950000.0   \n",
       "16331 1951-01-15  21.299999  21.299999  21.299999  21.299999  2830000.0   \n",
       "16330 1951-01-16  21.459999  21.459999  21.459999  21.459999  3740000.0   \n",
       "\n",
       "       Adj Close  avg_5_days_close  std_30_days_close  ratio_std_5_365_close  \\\n",
       "16339  20.690001         20.360000           0.403850                    NaN   \n",
       "16338  20.870001         20.514000           0.434320                    NaN   \n",
       "16337  20.870001         20.628000           0.473021                    NaN   \n",
       "16336  21.000000         20.726001           0.506783                    NaN   \n",
       "16335  21.120001         20.840001           0.543144                    NaN   \n",
       "16334  20.850000         20.910001           0.581016                    NaN   \n",
       "16333  21.190001         20.942001           0.602189                    NaN   \n",
       "16332  21.110001         21.006001           0.635242                    NaN   \n",
       "16331  21.299999         21.054001           0.651346                    NaN   \n",
       "16330  21.459999         21.114000           0.677254                    NaN   \n",
       "\n",
       "       std_5_days_volume  avg_30_days_volume  \n",
       "16339           0.304385            0.403850  \n",
       "16338           0.204524            0.434320  \n",
       "16337           0.214057            0.473021  \n",
       "16336           0.181879            0.506783  \n",
       "16335           0.117047            0.543144  \n",
       "16334           0.161090            0.581016  \n",
       "16333           0.116060            0.602189  \n",
       "16332           0.149767            0.635242  \n",
       "16331           0.132778            0.651346  \n",
       "16330           0.165922            0.677254  "
      ]
     },
     "execution_count": 22,
     "metadata": {},
     "output_type": "execute_result"
    }
   ],
   "source": [
    "# remove data before 1950-01-03.\n",
    "data = data[data[\"Date\"] > datetime(year=1951, month=1, day=2)]\n",
    "data.head(10)"
   ]
  },
  {
   "cell_type": "code",
   "execution_count": 23,
   "metadata": {},
   "outputs": [
    {
     "data": {
      "text/html": [
       "<div>\n",
       "<style scoped>\n",
       "    .dataframe tbody tr th:only-of-type {\n",
       "        vertical-align: middle;\n",
       "    }\n",
       "\n",
       "    .dataframe tbody tr th {\n",
       "        vertical-align: top;\n",
       "    }\n",
       "\n",
       "    .dataframe thead th {\n",
       "        text-align: right;\n",
       "    }\n",
       "</style>\n",
       "<table border=\"1\" class=\"dataframe\">\n",
       "  <thead>\n",
       "    <tr style=\"text-align: right;\">\n",
       "      <th></th>\n",
       "      <th>Date</th>\n",
       "      <th>Open</th>\n",
       "      <th>High</th>\n",
       "      <th>Low</th>\n",
       "      <th>Close</th>\n",
       "      <th>Volume</th>\n",
       "      <th>Adj Close</th>\n",
       "      <th>avg_5_days_close</th>\n",
       "      <th>std_30_days_close</th>\n",
       "      <th>ratio_std_5_365_close</th>\n",
       "      <th>std_5_days_volume</th>\n",
       "      <th>avg_30_days_volume</th>\n",
       "    </tr>\n",
       "  </thead>\n",
       "  <tbody>\n",
       "    <tr>\n",
       "      <th>16224</th>\n",
       "      <td>1951-06-19</td>\n",
       "      <td>22.020000</td>\n",
       "      <td>22.020000</td>\n",
       "      <td>22.020000</td>\n",
       "      <td>22.020000</td>\n",
       "      <td>1100000.0</td>\n",
       "      <td>22.020000</td>\n",
       "      <td>21.800</td>\n",
       "      <td>0.473595</td>\n",
       "      <td>0.143121</td>\n",
       "      <td>0.256223</td>\n",
       "      <td>0.473595</td>\n",
       "    </tr>\n",
       "    <tr>\n",
       "      <th>16223</th>\n",
       "      <td>1951-06-20</td>\n",
       "      <td>21.910000</td>\n",
       "      <td>21.910000</td>\n",
       "      <td>21.910000</td>\n",
       "      <td>21.910000</td>\n",
       "      <td>1120000.0</td>\n",
       "      <td>21.910000</td>\n",
       "      <td>21.900</td>\n",
       "      <td>0.444648</td>\n",
       "      <td>0.119409</td>\n",
       "      <td>0.213659</td>\n",
       "      <td>0.444648</td>\n",
       "    </tr>\n",
       "    <tr>\n",
       "      <th>16222</th>\n",
       "      <td>1951-06-21</td>\n",
       "      <td>21.780001</td>\n",
       "      <td>21.780001</td>\n",
       "      <td>21.780001</td>\n",
       "      <td>21.780001</td>\n",
       "      <td>1100000.0</td>\n",
       "      <td>21.780001</td>\n",
       "      <td>21.972</td>\n",
       "      <td>0.411452</td>\n",
       "      <td>0.051758</td>\n",
       "      <td>0.092574</td>\n",
       "      <td>0.411452</td>\n",
       "    </tr>\n",
       "    <tr>\n",
       "      <th>16221</th>\n",
       "      <td>1951-06-22</td>\n",
       "      <td>21.549999</td>\n",
       "      <td>21.549999</td>\n",
       "      <td>21.549999</td>\n",
       "      <td>21.549999</td>\n",
       "      <td>1340000.0</td>\n",
       "      <td>21.549999</td>\n",
       "      <td>21.960</td>\n",
       "      <td>0.368514</td>\n",
       "      <td>0.064390</td>\n",
       "      <td>0.115108</td>\n",
       "      <td>0.368514</td>\n",
       "    </tr>\n",
       "    <tr>\n",
       "      <th>16220</th>\n",
       "      <td>1951-06-25</td>\n",
       "      <td>21.290001</td>\n",
       "      <td>21.290001</td>\n",
       "      <td>21.290001</td>\n",
       "      <td>21.290001</td>\n",
       "      <td>2440000.0</td>\n",
       "      <td>21.290001</td>\n",
       "      <td>21.862</td>\n",
       "      <td>0.329130</td>\n",
       "      <td>0.114293</td>\n",
       "      <td>0.204132</td>\n",
       "      <td>0.329130</td>\n",
       "    </tr>\n",
       "  </tbody>\n",
       "</table>\n",
       "</div>"
      ],
      "text/plain": [
       "            Date       Open       High        Low      Close     Volume  \\\n",
       "16224 1951-06-19  22.020000  22.020000  22.020000  22.020000  1100000.0   \n",
       "16223 1951-06-20  21.910000  21.910000  21.910000  21.910000  1120000.0   \n",
       "16222 1951-06-21  21.780001  21.780001  21.780001  21.780001  1100000.0   \n",
       "16221 1951-06-22  21.549999  21.549999  21.549999  21.549999  1340000.0   \n",
       "16220 1951-06-25  21.290001  21.290001  21.290001  21.290001  2440000.0   \n",
       "\n",
       "       Adj Close  avg_5_days_close  std_30_days_close  ratio_std_5_365_close  \\\n",
       "16224  22.020000            21.800           0.473595               0.143121   \n",
       "16223  21.910000            21.900           0.444648               0.119409   \n",
       "16222  21.780001            21.972           0.411452               0.051758   \n",
       "16221  21.549999            21.960           0.368514               0.064390   \n",
       "16220  21.290001            21.862           0.329130               0.114293   \n",
       "\n",
       "       std_5_days_volume  avg_30_days_volume  \n",
       "16224           0.256223            0.473595  \n",
       "16223           0.213659            0.444648  \n",
       "16222           0.092574            0.411452  \n",
       "16221           0.115108            0.368514  \n",
       "16220           0.204132            0.329130  "
      ]
     },
     "execution_count": 23,
     "metadata": {},
     "output_type": "execute_result"
    }
   ],
   "source": [
    "data.dropna(axis = 0, inplace = True)\n",
    "data.head()"
   ]
  },
  {
   "cell_type": "markdown",
   "metadata": {},
   "source": [
    "#### LInear Regression model "
   ]
  },
  {
   "cell_type": "code",
   "execution_count": 24,
   "metadata": {},
   "outputs": [],
   "source": [
    "# Train should contain any rows in the data with a date less than 2013-01-01\n",
    "train_data = data[data[\"Date\"] < datetime(year=2013, month=1, day=1)]"
   ]
  },
  {
   "cell_type": "code",
   "execution_count": 25,
   "metadata": {},
   "outputs": [],
   "source": [
    "# Test should contain any rows with a date greater than or equal to 2013-01-01.\n",
    "test_data = data[data[\"Date\"] >= datetime(year=2013, month=1, day=1)]"
   ]
  },
  {
   "cell_type": "code",
   "execution_count": 26,
   "metadata": {},
   "outputs": [
    {
     "name": "stdout",
     "output_type": "stream",
     "text": [
      "mean absolute error:  16.211274542202275\n"
     ]
    }
   ],
   "source": [
    "features = ['avg_5_days_close', 'std_30_days_close', 'ratio_std_5_365_close']\n",
    "lr = LinearRegression()\n",
    "lr.fit(train_data[features], train_data['Close'])\n",
    "close_prediction = lr.predict(test_data[features])\n",
    "mae = mean_absolute_error(test_data['Close'], close_prediction)\n",
    "print(\"mean absolute error: \", mae)"
   ]
  },
  {
   "cell_type": "markdown",
   "metadata": {},
   "source": [
    "Would be improved the result adding 2 more columns?"
   ]
  },
  {
   "cell_type": "code",
   "execution_count": 27,
   "metadata": {},
   "outputs": [
    {
     "name": "stdout",
     "output_type": "stream",
     "text": [
      "mean absolute error:  16.16200587213265\n"
     ]
    }
   ],
   "source": [
    "features = ['avg_5_days_close', 'std_30_days_close', 'ratio_std_5_365_close',\n",
    "            'std_5_days_volume', 'avg_30_days_volume']\n",
    "lr = LinearRegression()\n",
    "lr.fit(train_data[features], train_data['Close'])\n",
    "close_prediction = lr.predict(test_data[features])\n",
    "mae = mean_absolute_error(test_data['Close'], close_prediction)\n",
    "print(\"mean absolute error: \", mae)"
   ]
  },
  {
   "cell_type": "markdown",
   "metadata": {},
   "source": [
    "#### Making predictions only one day ahead"
   ]
  },
  {
   "cell_type": "markdown",
   "metadata": {},
   "source": [
    "Accuracy would improve by making predictions only one day ahead. For example, train a model using data from 1951-01-03 to 2013-01-02, make predictions for 2013-01-03, and then train another model using data from 1951-01-03 to 2013-01-03, make predictions for 2013-01-04, and so on. This more closely simulates what you'd do if you were trading using the algorithm."
   ]
  },
  {
   "cell_type": "code",
   "execution_count": 28,
   "metadata": {},
   "outputs": [],
   "source": [
    "train = data[data[\"Date\"] < datetime(year=2013, month=1, day=1)]\n",
    "test = data[data[\"Date\"] == datetime(year=2013, month=1, day=1)]"
   ]
  },
  {
   "cell_type": "code",
   "execution_count": 29,
   "metadata": {},
   "outputs": [],
   "source": [
    "# Betrween 2013-01-02 and 2013-02-13\n",
    "days = data.iloc[15486:15516, 0].astype(str).tolist()"
   ]
  },
  {
   "cell_type": "code",
   "execution_count": 30,
   "metadata": {},
   "outputs": [],
   "source": [
    "mae_list = [] \n",
    "for day in days:\n",
    "    train = data[data[\"Date\"] < day]\n",
    "    test =  data[data[\"Date\"] == day]\n",
    "    lr = LinearRegression()\n",
    "    lr.fit(train[features], train['Close'])\n",
    "    close_prediction = lr.predict(test[features])\n",
    "    mae = mean_absolute_error(test['Close'], close_prediction)\n",
    "    mae_list.append(mae)"
   ]
  },
  {
   "cell_type": "code",
   "execution_count": 31,
   "metadata": {},
   "outputs": [
    {
     "data": {
      "image/png": "[encoded data removed]",
      "text/plain": [
       "<Figure size 432x288 with 1 Axes>"
      ]
     },
     "metadata": {
      "needs_background": "light"
     },
     "output_type": "display_data"
    }
   ],
   "source": [
    "plt.plot(range(1,31), mae_list)\n",
    "plt.title('MAE for each day')\n",
    "plt.xlabel('day')\n",
    "plt.ylabel('MAE');"
   ]
  },
  {
   "cell_type": "code",
   "execution_count": 32,
   "metadata": {},
   "outputs": [],
   "source": [
    "# last 30 days of the data: 2015-10-26 to 2015-12-07\n",
    "last_days = data.iloc[-30:, 0].astype(str).tolist();"
   ]
  },
  {
   "cell_type": "code",
   "execution_count": 33,
   "metadata": {},
   "outputs": [],
   "source": [
    "mae_last = [] \n",
    "for day in last_days:\n",
    "    train = data[data[\"Date\"] < day]\n",
    "    test =  data[data[\"Date\"] == day]\n",
    "    lr = LinearRegression()\n",
    "    lr.fit(train[features], train['Close'])\n",
    "    close_prediction = lr.predict(test[features])\n",
    "    mae = mean_absolute_error(test['Close'], close_prediction)\n",
    "    mae_last.append(mae)"
   ]
  },
  {
   "cell_type": "code",
   "execution_count": 34,
   "metadata": {},
   "outputs": [
    {
     "data": {
      "image/png": "[encoded data removed]",
      "text/plain": [
       "<Figure size 432x288 with 1 Axes>"
      ]
     },
     "metadata": {
      "needs_background": "light"
     },
     "output_type": "display_data"
    }
   ],
   "source": [
    "plt.plot(range(1,31), mae_last)\n",
    "plt.title('MAE for each day')\n",
    "plt.xlabel('day')\n",
    "plt.ylabel('MAE');"
   ]
  },
  {
   "cell_type": "markdown",
   "metadata": {},
   "source": [
    "#### Conclusions"
   ]
  },
  {
   "cell_type": "markdown",
   "metadata": {},
   "source": [
    "We have worked with the historical data of the S&P 500 and we have used the linear regression model to predict the close price. We have seen the high variability of the MAE using this approach."
   ]
  }
 ],
 "metadata": {
  "kernelspec": {
   "display_name": "Python 3",
   "language": "python",
   "name": "python3"
  },
  "language_info": {
   "codemirror_mode": {
    "name": "ipython",
    "version": 3
   },
   "file_extension": ".py",
   "mimetype": "text/x-python",
   "name": "python",
   "nbconvert_exporter": "python",
   "pygments_lexer": "ipython3",
   "version": "3.7.4"
  }
 },
 "nbformat": 4,
 "nbformat_minor": 2
}
